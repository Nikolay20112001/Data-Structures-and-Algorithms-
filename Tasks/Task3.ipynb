{
 "cells": [
  {
   "cell_type": "markdown",
   "id": "fifteen-sailing",
   "metadata": {},
   "source": [
    "# Набор заданий №3\n",
    "\n",
    "### Задание 1\n",
    "В Тридевятом Царстве уже много лет как установилась конституционная монархия. В парламент Тридевятого царства входят 26 партий, обозначаемых строчными буквами английского алфавита от «a» до «z». Заседание парламента в соответствии с регламентом проходит по следующей схеме:\n",
    "- В начале заседания никаких законопроектов на повестке дня не стоит.\n",
    "- Любая партия (в том числе и та, которая внесла текущий законопроект) в любой момент времени может внести на обсуждение новый законопроект.\n",
    "- При вносе партией нового законопроекта обсуждение предыдущего приостанавливается и начинается обсуждение нового. После того, как парламентарии голосуют за новый законопроект, обсуждение законопроекта, прерванного им, продолжается.\n",
    "- Дискуссия по любому законопроекту обязана завершиться голосованием по этому законопроекту.\n",
    "- В конце заседания не должно остаться внесённых законопроектов, дискуссия по которым не завершена.\n",
    "\n",
    "Вам дана запись о событиях на сессии парламента. Каждое событие является либо внесением нового законопроекта, либо голосованием за какой-то законопроект, причём в обоих случаях известен номер партии, этот законопроект предложившей. События даны в том порядке, в котором они происходили. Проверьте, может ли данная запись о событиях соответствовать какому-либо заседанию, удовлетворяющему порядку проведения, описанному выше.\n",
    "#### Ввод\n",
    "Первая строка входных данных содержит одно целое число *K* – количество строк в записи сессии (1 ≤ *K* ≤ 1000). Каждая строка соответствует одному из двух событий:\n",
    "\n",
    "- Add *x* – партия x внесла на голосование законопроект.\n",
    "- Vote *x* – прошло голосование за документ, внесённый партией *x*.\n",
    "\n",
    "Здесь *x* – строчная буква английского алфавита от «a» до «z», задающая партию.\n",
    "#### Вывод\n",
    "Выведите «Yes», если существует корректный порядок проведения заседания, который мог привести к такой записи, и «No», если ни при каком корректном порядке проведения заседания данная запись появиться не могла."
   ]
  },
  {
   "cell_type": "code",
   "execution_count": 1,
   "id": "concerned-lewis",
   "metadata": {},
   "outputs": [
    {
     "name": "stdout",
     "output_type": "stream",
     "text": [
      "8\n",
      "Add z\n",
      "Vote z\n",
      "Add x\n",
      "Add y\n",
      "Add x\n",
      "Vote x\n",
      "Vote y\n",
      "Vote x\n",
      "Yes\n"
     ]
    }
   ],
   "source": [
    "from queue import LifoQueue\n",
    "\n",
    "\n",
    "queue = LifoQueue(1001)\n",
    "\n",
    "k = int(input())\n",
    "Flag = True\n",
    "i = 1\n",
    "vote_counter = 0\n",
    "add_counter = 0\n",
    "\n",
    "while i <= k:\n",
    "    cmd, party = tuple(input().split())\n",
    "    if cmd == 'Add':\n",
    "        queue.put(party)\n",
    "        add_counter += 1\n",
    "    elif cmd == 'Vote':\n",
    "        vote_counter += 1\n",
    "        if queue.empty() == False:\n",
    "            item = queue.get()\n",
    "            if item != party:\n",
    "                Flag = False\n",
    "        else:\n",
    "            Flag = False\n",
    "    i += 1\n",
    "if Flag:\n",
    "    if add_counter == vote_counter:\n",
    "        print('Yes')\n",
    "    else:\n",
    "        print('No')\n",
    "else:\n",
    "    print('No')"
   ]
  },
  {
   "cell_type": "code",
   "execution_count": 2,
   "id": "coated-highway",
   "metadata": {},
   "outputs": [
    {
     "name": "stdout",
     "output_type": "stream",
     "text": [
      "21\n",
      "3\n"
     ]
    }
   ],
   "source": [
    "def isSimple(n):\n",
    "    Flag = True\n",
    "    for i in range(2, (n // 2) + 1):\n",
    "        if n % i == 0:\n",
    "            Flag = False\n",
    "            break\n",
    "\n",
    "\n",
    "n = int(input())\n",
    "if isSimple(n):\n",
    "    print(n)\n",
    "else:\n",
    "    Flag = False\n",
    "    for i in range(3, n + 1):\n",
    "        if n % i == 0:\n",
    "            print(i)\n",
    "            Flag = True\n",
    "            break"
   ]
  },
  {
   "cell_type": "code",
   "execution_count": null,
   "id": "bd4aabf4",
   "metadata": {},
   "outputs": [],
   "source": []
  },
  {
   "cell_type": "markdown",
   "id": "cordless-fundamentals",
   "metadata": {},
   "source": [
    "### Задача 3.\n",
    "\n",
    "На форуме, на котором обсуждаются задачи олимпиад по информатике, ввели следующий аналог капчи. Участнику выдаётся строка из *N* десятичных цифр (без ведущих нулей). В качестве ответа требуется ввести такое основание системы счисления *B*, что в этой системе счисления выданная запись будет соответствовать составному числу (назовем его *D*), а также число *X*, большее 1 и меньшее *D*, являющееся делителем *D*.\n",
    "\n",
    "При этом *B* и *X* не должны превосходить 10^9.\n",
    "\n",
    "По заданной строке десятичных цифр найдите любую пару чисел *B* и *X*, удовлетворяющую ограничениям, или ответьте, что решения в заданных ограничениях не существует.\n",
    "\n",
    "#### Входные данные\n",
    "\n",
    "Входные данные состоят из непустой строки длиной до 3 ⋅ 106 символов, составленной из цифр от 0 до 9 и не начинающейся с 0.\n",
    "\n",
    "#### Вывод\n",
    "\n",
    "Если решение существует, выведите два числа – основание системы счисления *B* и делитель *X*, записанные в десятичной системе счисления. Оба числа должны удовлетворять ограничениям 2 ≤ *B*, *X* ≤ 10^9. Если решения не существует, выведите –1."
   ]
  },
  {
   "cell_type": "code",
   "execution_count": 3,
   "id": "jewish-rocket",
   "metadata": {},
   "outputs": [
    {
     "name": "stdout",
     "output_type": "stream",
     "text": [
      "19\n",
      "19 2\n"
     ]
    }
   ],
   "source": [
    "import math\n",
    "\n",
    "\n",
    "\n",
    "def from_10(num, base):\n",
    "\n",
    "    newNum = ''\n",
    "\n",
    "    while num > 0:\n",
    "        newNum = str(num % base) + newNum\n",
    "        num //= base\n",
    "    return int(newNum)\n",
    "\n",
    "def isSimple(n):\n",
    "    Flag = True\n",
    "    for i in range(2, (n // 2) + 1):\n",
    "        if n % i == 0:\n",
    "            Flag = False\n",
    "            break\n",
    "    return Flag\n",
    "\n",
    "def get_divisor(n):\n",
    "    if isSimple(n):\n",
    "        return -1\n",
    "    else:\n",
    "        for i in range(2, (n // 2) + 1):\n",
    "            if n % i == 0:\n",
    "                div = i\n",
    "                break\n",
    "        return div\n",
    "\n",
    "n = int(input())\n",
    "if isSimple(n) == False:\n",
    "    print(10, get_divisor(n))\n",
    "elif n <= 10 ** 9:\n",
    "    if n == 1:\n",
    "        print(-1)\n",
    "    else:\n",
    "        b = n\n",
    "        x = 2\n",
    "        print(b, x)\n",
    "else:\n",
    "    d = n\n",
    "    b = 11\n",
    "    Flag = False\n",
    "    while b <= 10 ** 9 and Flag == False:\n",
    "        d = from_10(d, b)\n",
    "        if isSimple(d) == False:\n",
    "            Flag = True\n",
    "        else:\n",
    "            b += 1\n",
    "    if Flag:\n",
    "        print(get_divisor(d))\n",
    "    else:\n",
    "        print(-1)\n"
   ]
  }
 ],
 "metadata": {
  "kernelspec": {
   "display_name": "Python 3 (ipykernel)",
   "language": "python",
   "name": "python3"
  },
  "language_info": {
   "codemirror_mode": {
    "name": "ipython",
    "version": 3
   },
   "file_extension": ".py",
   "mimetype": "text/x-python",
   "name": "python",
   "nbconvert_exporter": "python",
   "pygments_lexer": "ipython3",
   "version": "3.8.3"
  }
 },
 "nbformat": 4,
 "nbformat_minor": 5
}
