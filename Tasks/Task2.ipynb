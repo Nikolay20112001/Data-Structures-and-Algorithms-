{
 "cells": [
  {
   "cell_type": "markdown",
   "id": "arctic-stocks",
   "metadata": {},
   "source": [
    "### Задание №1\n",
    "Массив A состоит из целых положительных чисел длин отрезков. Составьте из трех отрезков такой треугольник, чтобы его периметр был максимально возможным. Если невозможно составить треугольник с положительной площадью функция возвращает 0."
   ]
  },
  {
   "cell_type": "code",
   "execution_count": 2,
   "id": "caring-truck",
   "metadata": {
    "scrolled": false
   },
   "outputs": [
    {
     "name": "stdout",
     "output_type": "stream",
     "text": [
      "[31, 93, 72, 30, 44]\n",
      "Максимальный периметр: 209\n",
      "Стороны треугольника: 93 72 44\n"
     ]
    },
    {
     "data": {
      "text/plain": [
       "209"
      ]
     },
     "execution_count": 2,
     "metadata": {},
     "output_type": "execute_result"
    }
   ],
   "source": [
    "import random\n",
    "\n",
    "\n",
    "def get_random_mas(lenn, minn, maxx):\n",
    "    s = []\n",
    "    for i in range(lenn):\n",
    "        s.append(random.randint(minn, maxx))\n",
    "    return s\n",
    "\n",
    "def maxTriangle(s):\n",
    "    s.sort(reverse=True)\n",
    "    index = 0\n",
    "    Flag = False\n",
    "    while index <= len(s) - 3 and Flag is False:\n",
    "        if s[index] < s[index + 1] + s[index + 2]:\n",
    "            maxPerimeter = s[index] + s[index + 1] + s[index + 2]\n",
    "            Flag = True\n",
    "        else:\n",
    "            index += 1\n",
    "    if Flag:\n",
    "        print('Максимальный периметр:', maxPerimeter)\n",
    "        print('Стороны треугольника:', s[index], s[index + 1], s[index + 2])\n",
    "        return maxPerimeter\n",
    "    else:\n",
    "        return 0\n",
    "\n",
    "\n",
    "#  Подобранный массив для тестирования A = [30, 20, 10, 9, 5]\n",
    "A = get_random_mas(5, 0, 100)\n",
    "print(A)\n",
    "maxTriangle(A)"
   ]
  },
  {
   "cell_type": "markdown",
   "id": "maritime-conversation",
   "metadata": {},
   "source": [
    "### Задание №2\n",
    "Дан массив неотрицательных целых чисел nums. Расположите их в таком порядке, чтобы вместе они образовали максимально возможное число. Замечание: Результат может быть очень большим числом, поэтому представьте его как string, а не integer."
   ]
  },
  {
   "cell_type": "code",
   "execution_count": 3,
   "id": "alert-charm",
   "metadata": {
    "scrolled": false
   },
   "outputs": [
    {
     "name": "stdout",
     "output_type": "stream",
     "text": [
      "[90, 23, 49, 17, 86]\n",
      "9086492317\n"
     ]
    }
   ],
   "source": [
    "import random\n",
    "\n",
    "\n",
    "def howManyDigits(num):\n",
    "    if num != 0:\n",
    "        digits = 0\n",
    "        while num > 0:\n",
    "            num //= 10\n",
    "            digits += 1\n",
    "        return digits\n",
    "    else:\n",
    "        return 1\n",
    "\n",
    "def get_random_mas(lenn, minn, maxx):\n",
    "    s = []\n",
    "    for i in range(lenn):\n",
    "        s.append(random.randint(minn, maxx))\n",
    "    return s\n",
    "\n",
    "def oldest_digit(num):\n",
    "    return int(str(num)[0])\n",
    "\n",
    "\n",
    "def get_biggest_num(nums):\n",
    "    biggest_num = ''\n",
    "    nums.sort(reverse=True, key=lambda x: (oldest_digit(x), -howManyDigits(x)))\n",
    "    for num in nums:\n",
    "        biggest_num += str(num)\n",
    "    return biggest_num\n",
    "\n",
    "nums = get_random_mas(5, 0, 100)\n",
    "print(nums)\n",
    "# nums = [90, 9, 8, 900, 80] - Подобранный массив для тестирования\n",
    "print(get_biggest_num(nums))"
   ]
  },
  {
   "cell_type": "markdown",
   "id": "catholic-roots",
   "metadata": {},
   "source": [
    "### Задание №3\n",
    "Дана матрица mat размером m * n, значения целочисленные. Напишите функцию, сортирующую каждую диагональ матрицы по возрастанию и возвращающую получившуюся матрицу."
   ]
  },
  {
   "cell_type": "code",
   "execution_count": 11,
   "id": "cleared-anniversary",
   "metadata": {
    "scrolled": false
   },
   "outputs": [
    {
     "name": "stdout",
     "output_type": "stream",
     "text": [
      "[0, 2, 7, 8, 6]\n",
      "[0, 2, 3, 1, 7]\n",
      "[3, 9, 3, 7, 3]\n",
      "[8, 3, 8, 3, 3]\n",
      "[9, 2, 0, 2, 1]\n",
      "\n",
      "[0, 2, 1, 7, 6]\n",
      "[0, 1, 3, 3, 8]\n",
      "[0, 2, 2, 3, 7]\n",
      "[2, 3, 8, 3, 7]\n",
      "[9, 8, 3, 9, 3]\n"
     ]
    }
   ],
   "source": [
    "import random\n",
    "\n",
    "\n",
    "def GenerateMatrix(m=50, n=50, min_limit=-250, max_limit=1000 + 4):\n",
    "    matrix = [0] * m\n",
    "    for i in range(m):\n",
    "        matrix[i] = [0] * n\n",
    "\n",
    "    for i in range(m):\n",
    "        for j in range(n):\n",
    "            matrix[i][j] = random.randint(min_limit, max_limit)\n",
    "    return matrix\n",
    "\n",
    "def diag_sort(s):\n",
    "\n",
    "    m = len(s)\n",
    "    n = len(s[0])\n",
    "\n",
    "    # phase 1 - Записываем диагонали, начинающиеся с элементов самого левого столбца снизу вверх\n",
    "\n",
    "    start_i = m - 1\n",
    "    start_j = 0\n",
    "\n",
    "    start_i_copy = start_i\n",
    "    start_j_copy = start_j\n",
    "    diags = []\n",
    "    for ph1 in range(m):\n",
    "        diag = []\n",
    "        i = start_i\n",
    "        j = start_j\n",
    "        while i <= m - 1 and j <= n - 1:\n",
    "            diag.append(s[i][j])\n",
    "            i += 1\n",
    "            j += 1\n",
    "        diag.sort()\n",
    "        diags.append(diag)\n",
    "        start_i -= 1\n",
    "\n",
    "    # phase 2 - Сортируем полученные диагонали и заменяем значения в матрице\n",
    "    for diag in diags:\n",
    "        i = start_i_copy\n",
    "        j = start_j_copy\n",
    "        counter = 0\n",
    "        while i <= m - 1 and j <= n - 1:\n",
    "            s[i][j] = diag[counter]\n",
    "            counter = counter + 1\n",
    "            i += 1\n",
    "            j += 1\n",
    "        start_i_copy -= 1\n",
    "\n",
    "    # phase 3 - Записываем диагонали, начинающиеся с элементов самой верхней строки слева направо (без углового элемента)\n",
    "\n",
    "    start_i = 0\n",
    "    start_j = 1\n",
    "\n",
    "    start_i_copy = start_i\n",
    "    start_j_copy = start_j\n",
    "\n",
    "    diags = []\n",
    "    for ph1 in range(m):\n",
    "        diag = []\n",
    "        i = start_i\n",
    "        j = start_j\n",
    "        while i <= m - 1 and j <= n - 1:\n",
    "            diag.append(s[i][j])\n",
    "            i += 1\n",
    "            j += 1\n",
    "        diag.sort()\n",
    "        diags.append(diag)\n",
    "        start_j += 1\n",
    "\n",
    "    # phase 4 - Сортируем полученные диагонали и заменяем значения в матрице\n",
    "    for diag in diags:\n",
    "        i = start_i_copy\n",
    "        j = start_j_copy\n",
    "        counter = 0\n",
    "        while i <= m - 1 and j <= n - 1:\n",
    "            s[i][j] = diag[counter]\n",
    "            counter = counter + 1\n",
    "            i += 1\n",
    "            j += 1\n",
    "        start_j_copy += 1\n",
    "    return s\n",
    "\n",
    "\n",
    "mat = GenerateMatrix(5, 5, 0, 10)\n",
    "for line in mat:\n",
    "    print(line)\n",
    "mat = diag_sort(mat)\n",
    "print()\n",
    "\n",
    "for line in mat:\n",
    "    print(line)"
   ]
  },
  {
   "cell_type": "code",
   "execution_count": null,
   "id": "4e29effb",
   "metadata": {},
   "outputs": [],
   "source": []
  }
 ],
 "metadata": {
  "kernelspec": {
   "display_name": "Python 3 (ipykernel)",
   "language": "python",
   "name": "python3"
  },
  "language_info": {
   "codemirror_mode": {
    "name": "ipython",
    "version": 3
   },
   "file_extension": ".py",
   "mimetype": "text/x-python",
   "name": "python",
   "nbconvert_exporter": "python",
   "pygments_lexer": "ipython3",
   "version": "3.8.3"
  }
 },
 "nbformat": 4,
 "nbformat_minor": 5
}
